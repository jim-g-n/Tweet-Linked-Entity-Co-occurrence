{
 "cells": [
  {
   "cell_type": "markdown",
   "id": "6fba3ecf",
   "metadata": {},
   "source": [
    "# DBpedia Spotlight Graph Creation"
   ]
  },
  {
   "cell_type": "markdown",
   "id": "d9cf0ebd",
   "metadata": {},
   "source": [
    "This notebook creates the graph-tool graph and data files from the processed DBpedia Spotlight annotations."
   ]
  },
  {
   "cell_type": "code",
   "execution_count": null,
   "id": "2ba18008-e320-4036-b178-ad3cdf941197",
   "metadata": {},
   "outputs": [],
   "source": [
    "from graph_tool import Graph\n",
    "import graph_tool.all as gt\n",
    "import pandas as pd\n",
    "from itertools import combinations\n",
    "from matplotlib import pyplot as plt\n",
    "import numpy as np\n",
    "from collections import Counter\n",
    "from itertools import zip_longest\n",
    "import ast\n",
    "import pickle"
   ]
  },
  {
   "cell_type": "code",
   "execution_count": null,
   "id": "88efb54a-9a72-4299-b147-15499ddecb61",
   "metadata": {},
   "outputs": [],
   "source": [
    "def collect_entities(entity_array):\n",
    "    entity_count = dict()\n",
    "\n",
    "    for entity_list in entity_array:\n",
    "        entities = []\n",
    "\n",
    "        for entity_name in entity_list:\n",
    "\n",
    "            if entity_name not in entities:\n",
    "                entities.append(entity_name)\n",
    "                if entity_name in entity_count:\n",
    "                    entity_count[entity_name] += 1\n",
    "                else:\n",
    "                    entity_count[entity_name] = 1\n",
    "\n",
    "    return entity_count\n",
    "\n",
    "def count_entity_pairs(entity_array, entity_int_mapping):\n",
    "    entity_pairs_counts = dict()\n",
    "\n",
    "    for entity_list in entity_array:\n",
    "        entities = []\n",
    "        for entity_name in set(entity_list):\n",
    "            \n",
    "            if (entity_name not in entities):\n",
    "                entities.append(entity_name)\n",
    "        \n",
    "        # counts are tracked for how often keywords occur together\n",
    "        for entity_pair in list(combinations(entities, 2)):\n",
    "            entity_0 = entity_int_mapping[entity_pair[0]]\n",
    "            entity_1 = entity_int_mapping[entity_pair[1]]\n",
    "            if frozenset((entity_0, entity_1)) in entity_pairs_counts:\n",
    "                entity_pairs_counts[frozenset((entity_0, entity_1))] += 1\n",
    "            else:\n",
    "                entity_pairs_counts[frozenset((entity_0, entity_1))] = 1      \n",
    "    return entity_pairs_counts\n",
    "\n",
    "def create_graph(entity_array):\n",
    "    entity_count = collect_entities(entity_array)\n",
    "    entity_int_mapping = dict(zip(list(entity_count.keys()),[i for i in range(len(entity_count))]))\n",
    "    entity_pairs = count_entity_pairs(entity_array, entity_int_mapping)\n",
    "\n",
    "    num_nodes = len(entity_count)\n",
    "    g = Graph(directed=False)\n",
    "    vlist = g.add_vertex(n=num_nodes)\n",
    "    g.add_edge_list([tuple(list(x) + [y]) for x,y in entity_pairs.items()], eprops=[('weight','int')])\n",
    "\n",
    "    return g, entity_count, entity_int_mapping"
   ]
  },
  {
   "cell_type": "code",
   "execution_count": null,
   "id": "0dae8229-49bb-42c0-bd4f-908a6bc0ba46",
   "metadata": {},
   "outputs": [],
   "source": [
    "def get_conn_comp(g, entity_int_mapping):\n",
    "    con_g = gt.extract_largest_component(g, prune = False)\n",
    "    vertex_arr = con_g.get_vertices()\n",
    "\n",
    "    org_reverse_entity_mapping = dict((v,k) for k,v in entity_int_mapping.items())\n",
    "    reverse_entity_mapping = {i:org_reverse_entity_mapping[i] for i in vertex_arr}\n",
    "    reverse_entity_mapping = dict(zip([i for i in range(len(vertex_arr))], [org_reverse_entity_mapping[i] for i in vertex_arr]))\n",
    "    \n",
    "    con_g = gt.extract_largest_component(g, prune = True)\n",
    "\n",
    "    return con_g, reverse_entity_mapping"
   ]
  },
  {
   "cell_type": "code",
   "execution_count": null,
   "id": "15fe3e66-5d8d-474c-827e-0c062c860e1d",
   "metadata": {},
   "outputs": [],
   "source": [
    "combined_dbpedia_dfs = dict()\n",
    "for conf in [0.3, 0.4, 0.5, 0.6, 0.7, 0.8, 0.9]:\n",
    "    combined_dbpedia_dfs[str(conf)] = pd.read_csv('dbpedia_entities_all_' + str(conf) + '_conf_processed.zip', compression = 'bz2')"
   ]
  },
  {
   "cell_type": "code",
   "execution_count": null,
   "id": "cda84148-95a0-4d8a-8b54-738019dc86a2",
   "metadata": {},
   "outputs": [],
   "source": [
    "for df in combined_dbpedia_dfs:\n",
    "    combined_dbpedia_dfs[df].entity_names = combined_dbpedia_dfs[df].apply(lambda x: ast.literal_eval(x['entity_names']), axis = 1)"
   ]
  },
  {
   "cell_type": "code",
   "execution_count": null,
   "id": "213c4b0d-7ab5-466d-9dea-dfcd9b161799",
   "metadata": {},
   "outputs": [],
   "source": [
    "conf_list = ['0.3', '0.4', '0.5', '0.6', '0.7', '0.8', '0.9']"
   ]
  },
  {
   "cell_type": "code",
   "execution_count": null,
   "id": "eb32fbcf-b197-4ad9-8862-867415a34af9",
   "metadata": {},
   "outputs": [],
   "source": [
    "full_graphs_dict = dict()\n",
    "\n",
    "for conf in conf_list:\n",
    "    full_graphs_dict[conf] = create_graph(combined_dbpedia_dfs[conf].entity_names)\n",
    "    print(conf)"
   ]
  },
  {
   "cell_type": "code",
   "execution_count": null,
   "id": "f498d5d3-cfb6-4540-9500-229024616e98",
   "metadata": {},
   "outputs": [],
   "source": [
    "for conf in conf_list:\n",
    "    full_graphs_dict[conf][0].save(\"dbpedia_all_full_conf_\" + conf + \".gt.gz\")\n",
    "    \n",
    "    with open('dbpedia_all_full_conf_' + conf + '_data.pickle', 'wb') as handle:\n",
    "        pickle.dump(full_graphs_dict[conf][1:], handle, protocol=pickle.HIGHEST_PROTOCOL)"
   ]
  },
  {
   "cell_type": "code",
   "execution_count": null,
   "id": "715c638b-bfee-4ef3-bd9f-fd3e16453607",
   "metadata": {},
   "outputs": [],
   "source": [
    "conn_graphs_dict = dict()\n",
    "\n",
    "for conf in conf_list:\n",
    "    conn_graphs_dict[conf] = get_conn_comp(full_graphs_dict[conf][0], full_graphs_dict[conf][2])"
   ]
  },
  {
   "cell_type": "code",
   "execution_count": null,
   "id": "a4aecc93-d3d0-4e20-b1c3-765257fc7a97",
   "metadata": {},
   "outputs": [],
   "source": [
    "for conf in conf_list:\n",
    "    conn_graphs_dict[conf][0].save(\"dbpedia_all_conn_conf_\" + conf + \".gt.gz\")\n",
    "    \n",
    "    with open('dbpedia_all_conn_conf_' + conf + '_data.pickle', 'wb') as handle:\n",
    "        pickle.dump(conn_graphs_dict[conf][1:], handle, protocol=pickle.HIGHEST_PROTOCOL)"
   ]
  }
 ],
 "metadata": {
  "kernelspec": {
   "display_name": "Python 3 (ipykernel)",
   "language": "python",
   "name": "python3"
  },
  "language_info": {
   "codemirror_mode": {
    "name": "ipython",
    "version": 3
   },
   "file_extension": ".py",
   "mimetype": "text/x-python",
   "name": "python",
   "nbconvert_exporter": "python",
   "pygments_lexer": "ipython3",
   "version": "3.8.8"
  }
 },
 "nbformat": 4,
 "nbformat_minor": 5
}
